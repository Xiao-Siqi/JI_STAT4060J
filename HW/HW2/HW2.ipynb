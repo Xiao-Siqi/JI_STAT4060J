{
 "cells": [
  {
   "cell_type": "markdown",
   "metadata": {},
   "source": [
    "# STAT4060J Homework 2"
   ]
  },
  {
   "cell_type": "markdown",
   "metadata": {},
   "source": [
    "## Preparation Work"
   ]
  },
  {
   "cell_type": "code",
   "execution_count": 148,
   "metadata": {},
   "outputs": [],
   "source": [
    "import pandas as pd\n",
    "import numpy as np\n",
    "import matplotlib\n",
    "matplotlib.use('Qt5Agg')\n",
    "%matplotlib inline\n",
    "import matplotlib.pyplot as plt\n",
    "import seaborn as sns"
   ]
  },
  {
   "cell_type": "markdown",
   "metadata": {},
   "source": [
    "### 1. Import Data and Clean Data"
   ]
  },
  {
   "cell_type": "code",
   "execution_count": 149,
   "metadata": {},
   "outputs": [
    {
     "data": {
      "text/html": [
       "<div>\n",
       "<style scoped>\n",
       "    .dataframe tbody tr th:only-of-type {\n",
       "        vertical-align: middle;\n",
       "    }\n",
       "\n",
       "    .dataframe tbody tr th {\n",
       "        vertical-align: top;\n",
       "    }\n",
       "\n",
       "    .dataframe thead th {\n",
       "        text-align: right;\n",
       "    }\n",
       "</style>\n",
       "<table border=\"1\" class=\"dataframe\">\n",
       "  <thead>\n",
       "    <tr style=\"text-align: right;\">\n",
       "      <th></th>\n",
       "      <th>CommunityName</th>\n",
       "      <th>ZIPCode</th>\n",
       "      <th>SalesofSingleFamilyHomes</th>\n",
       "      <th>PriceMedianSFR(1000)</th>\n",
       "      <th>PriceChgfromAugust2012</th>\n",
       "      <th>SalesCountCondos</th>\n",
       "      <th>PriceMedianCondos(1000)</th>\n",
       "      <th>PriceChgfromAug2012</th>\n",
       "      <th>MedianHomePrice/Sq.Ft</th>\n",
       "    </tr>\n",
       "  </thead>\n",
       "  <tbody>\n",
       "    <tr>\n",
       "      <th>0</th>\n",
       "      <td>Acton</td>\n",
       "      <td>93510</td>\n",
       "      <td>6.0</td>\n",
       "      <td>510.0</td>\n",
       "      <td>34.2</td>\n",
       "      <td>1.0</td>\n",
       "      <td>184.0</td>\n",
       "      <td>NaN</td>\n",
       "      <td>173.0</td>\n",
       "    </tr>\n",
       "    <tr>\n",
       "      <th>1</th>\n",
       "      <td>AgouraHills</td>\n",
       "      <td>91301</td>\n",
       "      <td>16.0</td>\n",
       "      <td>893.0</td>\n",
       "      <td>15.9</td>\n",
       "      <td>24.0</td>\n",
       "      <td>530.0</td>\n",
       "      <td>20.9</td>\n",
       "      <td>323.0</td>\n",
       "    </tr>\n",
       "    <tr>\n",
       "      <th>2</th>\n",
       "      <td>Alhambra</td>\n",
       "      <td>91801</td>\n",
       "      <td>16.0</td>\n",
       "      <td>578.0</td>\n",
       "      <td>28.7</td>\n",
       "      <td>19.0</td>\n",
       "      <td>385.0</td>\n",
       "      <td>0.5</td>\n",
       "      <td>418.0</td>\n",
       "    </tr>\n",
       "    <tr>\n",
       "      <th>3</th>\n",
       "      <td>Alhambra</td>\n",
       "      <td>91803</td>\n",
       "      <td>18.0</td>\n",
       "      <td>460.0</td>\n",
       "      <td>10.0</td>\n",
       "      <td>2.0</td>\n",
       "      <td>331.0</td>\n",
       "      <td>-18.6</td>\n",
       "      <td>353.0</td>\n",
       "    </tr>\n",
       "    <tr>\n",
       "      <th>4</th>\n",
       "      <td>Altadena</td>\n",
       "      <td>91001</td>\n",
       "      <td>45.0</td>\n",
       "      <td>630.0</td>\n",
       "      <td>50.0</td>\n",
       "      <td>1.0</td>\n",
       "      <td>1300.0</td>\n",
       "      <td>19.5</td>\n",
       "      <td>444.0</td>\n",
       "    </tr>\n",
       "    <tr>\n",
       "      <th>...</th>\n",
       "      <td>...</td>\n",
       "      <td>...</td>\n",
       "      <td>...</td>\n",
       "      <td>...</td>\n",
       "      <td>...</td>\n",
       "      <td>...</td>\n",
       "      <td>...</td>\n",
       "      <td>...</td>\n",
       "      <td>...</td>\n",
       "    </tr>\n",
       "    <tr>\n",
       "      <th>264</th>\n",
       "      <td>Whittier</td>\n",
       "      <td>90606</td>\n",
       "      <td>22.0</td>\n",
       "      <td>329.0</td>\n",
       "      <td>14.2</td>\n",
       "      <td>NaN</td>\n",
       "      <td>NaN</td>\n",
       "      <td>NaN</td>\n",
       "      <td>289.0</td>\n",
       "    </tr>\n",
       "    <tr>\n",
       "      <th>265</th>\n",
       "      <td>Wilmington</td>\n",
       "      <td>90744</td>\n",
       "      <td>19.0</td>\n",
       "      <td>277.0</td>\n",
       "      <td>19.4</td>\n",
       "      <td>1.0</td>\n",
       "      <td>246.0</td>\n",
       "      <td>NaN</td>\n",
       "      <td>245.0</td>\n",
       "    </tr>\n",
       "    <tr>\n",
       "      <th>266</th>\n",
       "      <td>Winnetka</td>\n",
       "      <td>91306</td>\n",
       "      <td>39.0</td>\n",
       "      <td>418.0</td>\n",
       "      <td>29.8</td>\n",
       "      <td>11.0</td>\n",
       "      <td>225.0</td>\n",
       "      <td>56.2</td>\n",
       "      <td>277.0</td>\n",
       "    </tr>\n",
       "    <tr>\n",
       "      <th>267</th>\n",
       "      <td>WoodlndHls</td>\n",
       "      <td>91364</td>\n",
       "      <td>41.0</td>\n",
       "      <td>675.0</td>\n",
       "      <td>32.4</td>\n",
       "      <td>1.0</td>\n",
       "      <td>275.0</td>\n",
       "      <td>32.5</td>\n",
       "      <td>332.0</td>\n",
       "    </tr>\n",
       "    <tr>\n",
       "      <th>268</th>\n",
       "      <td>WoodlndHls</td>\n",
       "      <td>91367</td>\n",
       "      <td>39.0</td>\n",
       "      <td>663.0</td>\n",
       "      <td>25.2</td>\n",
       "      <td>32.0</td>\n",
       "      <td>340.0</td>\n",
       "      <td>13.3</td>\n",
       "      <td>342.0</td>\n",
       "    </tr>\n",
       "  </tbody>\n",
       "</table>\n",
       "<p>269 rows × 9 columns</p>\n",
       "</div>"
      ],
      "text/plain": [
       "    CommunityName  ZIPCode  SalesofSingleFamilyHomes  PriceMedianSFR(1000)  \\\n",
       "0           Acton    93510                       6.0                 510.0   \n",
       "1     AgouraHills    91301                      16.0                 893.0   \n",
       "2        Alhambra    91801                      16.0                 578.0   \n",
       "3        Alhambra    91803                      18.0                 460.0   \n",
       "4        Altadena    91001                      45.0                 630.0   \n",
       "..            ...      ...                       ...                   ...   \n",
       "264      Whittier    90606                      22.0                 329.0   \n",
       "265    Wilmington    90744                      19.0                 277.0   \n",
       "266      Winnetka    91306                      39.0                 418.0   \n",
       "267    WoodlndHls    91364                      41.0                 675.0   \n",
       "268    WoodlndHls    91367                      39.0                 663.0   \n",
       "\n",
       "     PriceChgfromAugust2012  SalesCountCondos  PriceMedianCondos(1000)  \\\n",
       "0                      34.2               1.0                    184.0   \n",
       "1                      15.9              24.0                    530.0   \n",
       "2                      28.7              19.0                    385.0   \n",
       "3                      10.0               2.0                    331.0   \n",
       "4                      50.0               1.0                   1300.0   \n",
       "..                      ...               ...                      ...   \n",
       "264                    14.2               NaN                      NaN   \n",
       "265                    19.4               1.0                    246.0   \n",
       "266                    29.8              11.0                    225.0   \n",
       "267                    32.4               1.0                    275.0   \n",
       "268                    25.2              32.0                    340.0   \n",
       "\n",
       "     PriceChgfromAug2012  MedianHomePrice/Sq.Ft  \n",
       "0                    NaN                  173.0  \n",
       "1                   20.9                  323.0  \n",
       "2                    0.5                  418.0  \n",
       "3                  -18.6                  353.0  \n",
       "4                   19.5                  444.0  \n",
       "..                   ...                    ...  \n",
       "264                  NaN                  289.0  \n",
       "265                  NaN                  245.0  \n",
       "266                 56.2                  277.0  \n",
       "267                 32.5                  332.0  \n",
       "268                 13.3                  342.0  \n",
       "\n",
       "[269 rows x 9 columns]"
      ]
     },
     "execution_count": 149,
     "metadata": {},
     "output_type": "execute_result"
    }
   ],
   "source": [
    "df = pd.read_csv(\"LAhousingpricesaug2013.txt\",sep='\\s+')\n",
    "df"
   ]
  },
  {
   "cell_type": "code",
   "execution_count": 150,
   "metadata": {},
   "outputs": [
    {
     "data": {
      "text/html": [
       "<div>\n",
       "<style scoped>\n",
       "    .dataframe tbody tr th:only-of-type {\n",
       "        vertical-align: middle;\n",
       "    }\n",
       "\n",
       "    .dataframe tbody tr th {\n",
       "        vertical-align: top;\n",
       "    }\n",
       "\n",
       "    .dataframe thead th {\n",
       "        text-align: right;\n",
       "    }\n",
       "</style>\n",
       "<table border=\"1\" class=\"dataframe\">\n",
       "  <thead>\n",
       "    <tr style=\"text-align: right;\">\n",
       "      <th></th>\n",
       "      <th>CommunityName</th>\n",
       "      <th>ZIPCode</th>\n",
       "      <th>SalesofSingleFamilyHomes</th>\n",
       "      <th>PriceMedianSFR(1000)</th>\n",
       "      <th>PriceChgfromAugust2012</th>\n",
       "      <th>SalesCountCondos</th>\n",
       "      <th>PriceMedianCondos(1000)</th>\n",
       "      <th>PriceChgfromAug2012</th>\n",
       "      <th>MedianHomePrice/Sq.Ft</th>\n",
       "    </tr>\n",
       "  </thead>\n",
       "  <tbody>\n",
       "    <tr>\n",
       "      <th>0</th>\n",
       "      <td>Acton</td>\n",
       "      <td>93510</td>\n",
       "      <td>6.0</td>\n",
       "      <td>510.0</td>\n",
       "      <td>34.2</td>\n",
       "      <td>1.0</td>\n",
       "      <td>184.0</td>\n",
       "      <td>NaN</td>\n",
       "      <td>173.0</td>\n",
       "    </tr>\n",
       "    <tr>\n",
       "      <th>1</th>\n",
       "      <td>AgouraHills</td>\n",
       "      <td>91301</td>\n",
       "      <td>16.0</td>\n",
       "      <td>893.0</td>\n",
       "      <td>15.9</td>\n",
       "      <td>24.0</td>\n",
       "      <td>530.0</td>\n",
       "      <td>20.9</td>\n",
       "      <td>323.0</td>\n",
       "    </tr>\n",
       "    <tr>\n",
       "      <th>2</th>\n",
       "      <td>Alhambra</td>\n",
       "      <td>91801</td>\n",
       "      <td>16.0</td>\n",
       "      <td>578.0</td>\n",
       "      <td>28.7</td>\n",
       "      <td>19.0</td>\n",
       "      <td>385.0</td>\n",
       "      <td>0.5</td>\n",
       "      <td>418.0</td>\n",
       "    </tr>\n",
       "    <tr>\n",
       "      <th>3</th>\n",
       "      <td>Alhambra</td>\n",
       "      <td>91803</td>\n",
       "      <td>18.0</td>\n",
       "      <td>460.0</td>\n",
       "      <td>10.0</td>\n",
       "      <td>2.0</td>\n",
       "      <td>331.0</td>\n",
       "      <td>-18.6</td>\n",
       "      <td>353.0</td>\n",
       "    </tr>\n",
       "    <tr>\n",
       "      <th>4</th>\n",
       "      <td>Altadena</td>\n",
       "      <td>91001</td>\n",
       "      <td>45.0</td>\n",
       "      <td>630.0</td>\n",
       "      <td>50.0</td>\n",
       "      <td>1.0</td>\n",
       "      <td>1300.0</td>\n",
       "      <td>19.5</td>\n",
       "      <td>444.0</td>\n",
       "    </tr>\n",
       "    <tr>\n",
       "      <th>...</th>\n",
       "      <td>...</td>\n",
       "      <td>...</td>\n",
       "      <td>...</td>\n",
       "      <td>...</td>\n",
       "      <td>...</td>\n",
       "      <td>...</td>\n",
       "      <td>...</td>\n",
       "      <td>...</td>\n",
       "      <td>...</td>\n",
       "    </tr>\n",
       "    <tr>\n",
       "      <th>263</th>\n",
       "      <td>Whittier</td>\n",
       "      <td>90605</td>\n",
       "      <td>31.0</td>\n",
       "      <td>370.0</td>\n",
       "      <td>15.6</td>\n",
       "      <td>2.0</td>\n",
       "      <td>355.0</td>\n",
       "      <td>153.6</td>\n",
       "      <td>296.0</td>\n",
       "    </tr>\n",
       "    <tr>\n",
       "      <th>265</th>\n",
       "      <td>Wilmington</td>\n",
       "      <td>90744</td>\n",
       "      <td>19.0</td>\n",
       "      <td>277.0</td>\n",
       "      <td>19.4</td>\n",
       "      <td>1.0</td>\n",
       "      <td>246.0</td>\n",
       "      <td>NaN</td>\n",
       "      <td>245.0</td>\n",
       "    </tr>\n",
       "    <tr>\n",
       "      <th>266</th>\n",
       "      <td>Winnetka</td>\n",
       "      <td>91306</td>\n",
       "      <td>39.0</td>\n",
       "      <td>418.0</td>\n",
       "      <td>29.8</td>\n",
       "      <td>11.0</td>\n",
       "      <td>225.0</td>\n",
       "      <td>56.2</td>\n",
       "      <td>277.0</td>\n",
       "    </tr>\n",
       "    <tr>\n",
       "      <th>267</th>\n",
       "      <td>WoodlndHls</td>\n",
       "      <td>91364</td>\n",
       "      <td>41.0</td>\n",
       "      <td>675.0</td>\n",
       "      <td>32.4</td>\n",
       "      <td>1.0</td>\n",
       "      <td>275.0</td>\n",
       "      <td>32.5</td>\n",
       "      <td>332.0</td>\n",
       "    </tr>\n",
       "    <tr>\n",
       "      <th>268</th>\n",
       "      <td>WoodlndHls</td>\n",
       "      <td>91367</td>\n",
       "      <td>39.0</td>\n",
       "      <td>663.0</td>\n",
       "      <td>25.2</td>\n",
       "      <td>32.0</td>\n",
       "      <td>340.0</td>\n",
       "      <td>13.3</td>\n",
       "      <td>342.0</td>\n",
       "    </tr>\n",
       "  </tbody>\n",
       "</table>\n",
       "<p>217 rows × 9 columns</p>\n",
       "</div>"
      ],
      "text/plain": [
       "    CommunityName  ZIPCode  SalesofSingleFamilyHomes  PriceMedianSFR(1000)  \\\n",
       "0           Acton    93510                       6.0                 510.0   \n",
       "1     AgouraHills    91301                      16.0                 893.0   \n",
       "2        Alhambra    91801                      16.0                 578.0   \n",
       "3        Alhambra    91803                      18.0                 460.0   \n",
       "4        Altadena    91001                      45.0                 630.0   \n",
       "..            ...      ...                       ...                   ...   \n",
       "263      Whittier    90605                      31.0                 370.0   \n",
       "265    Wilmington    90744                      19.0                 277.0   \n",
       "266      Winnetka    91306                      39.0                 418.0   \n",
       "267    WoodlndHls    91364                      41.0                 675.0   \n",
       "268    WoodlndHls    91367                      39.0                 663.0   \n",
       "\n",
       "     PriceChgfromAugust2012  SalesCountCondos  PriceMedianCondos(1000)  \\\n",
       "0                      34.2               1.0                    184.0   \n",
       "1                      15.9              24.0                    530.0   \n",
       "2                      28.7              19.0                    385.0   \n",
       "3                      10.0               2.0                    331.0   \n",
       "4                      50.0               1.0                   1300.0   \n",
       "..                      ...               ...                      ...   \n",
       "263                    15.6               2.0                    355.0   \n",
       "265                    19.4               1.0                    246.0   \n",
       "266                    29.8              11.0                    225.0   \n",
       "267                    32.4               1.0                    275.0   \n",
       "268                    25.2              32.0                    340.0   \n",
       "\n",
       "     PriceChgfromAug2012  MedianHomePrice/Sq.Ft  \n",
       "0                    NaN                  173.0  \n",
       "1                   20.9                  323.0  \n",
       "2                    0.5                  418.0  \n",
       "3                  -18.6                  353.0  \n",
       "4                   19.5                  444.0  \n",
       "..                   ...                    ...  \n",
       "263                153.6                  296.0  \n",
       "265                  NaN                  245.0  \n",
       "266                 56.2                  277.0  \n",
       "267                 32.5                  332.0  \n",
       "268                 13.3                  342.0  \n",
       "\n",
       "[217 rows x 9 columns]"
      ]
     },
     "execution_count": 150,
     "metadata": {},
     "output_type": "execute_result"
    }
   ],
   "source": [
    "df.dropna(axis=0, how='any', inplace= True, subset=[\n",
    "    'SalesofSingleFamilyHomes',\n",
    "    'PriceMedianSFR(1000)',\n",
    "    'PriceMedianCondos(1000)',\n",
    "    'MedianHomePrice/Sq.Ft'\n",
    "])\n",
    "df"
   ]
  },
  {
   "cell_type": "markdown",
   "metadata": {},
   "source": [
    "### 2. Perform regression of Y on X = {X1,X2,X3}, and compute parameter estimatess"
   ]
  },
  {
   "cell_type": "code",
   "execution_count": 151,
   "metadata": {},
   "outputs": [
    {
     "data": {
      "text/plain": [
       "(217, 1)"
      ]
     },
     "execution_count": 151,
     "metadata": {},
     "output_type": "execute_result"
    }
   ],
   "source": [
    "Y = df['SalesofSingleFamilyHomes'].values\n",
    "Y = np.expand_dims(Y,axis = 1)\n",
    "X0 = np.ones((len(Y),1))\n",
    "X1 = np.array(df['PriceMedianSFR(1000)'])\n",
    "X2 = np.array(df['PriceMedianCondos(1000)'])\n",
    "X3 = np.array(df['MedianHomePrice/Sq.Ft'])\n",
    "X_mat = df[['PriceMedianSFR(1000)','PriceMedianCondos(1000)','MedianHomePrice/Sq.Ft']]\n",
    "X = X_mat.values\n",
    "X = np.hstack((X0,X))\n",
    "Y.shape"
   ]
  },
  {
   "cell_type": "markdown",
   "metadata": {},
   "source": []
  },
  {
   "cell_type": "code",
   "execution_count": 152,
   "metadata": {},
   "outputs": [],
   "source": [
    "def Sweep(X,m):\n",
    "    B = np.copy(X)   \n",
    "    n = B.shape[0]\n",
    "    for k in range(m):\n",
    "        for i in range(n):\n",
    "            for j in range(n):\n",
    "                if i!=k and j!=k:\n",
    "                    B[i,j] = B[i,j]-B[i,k]*B[k,j]/B[k,k]             \n",
    "        for i in range(n):\n",
    "            if i!=k:\n",
    "                B[i,k]=B[i,k]/B[k,k]\n",
    "        for j in range(n):\n",
    "            if j!=k:\n",
    "                B[k,j]= B[k,j]/B[k,k]\n",
    "        B[k,k] = - 1/B[k,k]\n",
    "    return B\n"
   ]
  },
  {
   "cell_type": "code",
   "execution_count": 153,
   "metadata": {},
   "outputs": [],
   "source": [
    "def householder(A):\n",
    "    n, m = A.shape\n",
    "    R = A.copy()\n",
    "    Q = np.eye(n)\n",
    "    for k in range(m-1):\n",
    "        x = np.zeros((n,1))\n",
    "        x[k:, 0] = R[k:, k]\n",
    "        v = x\n",
    "        x[k] = x[k] + np.sign(x[k,0]) * np.linalg.norm(x)\n",
    "        s = np.linalg.norm(v)\n",
    "        if s != 0:\n",
    "            u = v/s\n",
    "            R -= 2* np.dot(u, np.dot(u.T, R))\n",
    "            Q -= 2* np.dot(u, np.dot(u.T, Q))\n",
    "    Q = Q.T\n",
    "    return Q,R\n"
   ]
  },
  {
   "cell_type": "code",
   "execution_count": 154,
   "metadata": {},
   "outputs": [],
   "source": [
    "\"Householder\"\n",
    "def solveX(X,Y):\n",
    "    Q, R = householder(X)\n",
    "    b = np.dot(np.dot(np.dot(np.linalg.inv(np.dot(R.T,R)),R.T),Q.T),Y)\n",
    "    return b\n"
   ]
  },
  {
   "cell_type": "code",
   "execution_count": 155,
   "metadata": {},
   "outputs": [
    {
     "data": {
      "text/plain": [
       "array([ 3.27884403e+01,  7.82343055e-03,  1.95219584e-03, -4.25534747e-02])"
      ]
     },
     "execution_count": 155,
     "metadata": {},
     "output_type": "execute_result"
    }
   ],
   "source": [
    "Z = np.hstack((X,Y))\n",
    "m = X.shape[1]\n",
    "A = np.dot(Z.T,Z)\n",
    "S = Sweep(A,m)\n",
    "S[0:m,m]"
   ]
  },
  {
   "cell_type": "markdown",
   "metadata": {},
   "source": [
    "### 3.4.5 Compute estimates and record. Plot"
   ]
  },
  {
   "cell_type": "code",
   "execution_count": 156,
   "metadata": {},
   "outputs": [],
   "source": [
    "def inf(i , A , Y):\n",
    "    copyA = A\n",
    "    copyY = Y\n",
    "    copyA = np.delete(copyA , i , axis=0)\n",
    "    copyY = np.delete(copyY , i , axis=0)\n",
    "    beta = solveX(copyA, copyY)\n",
    "    return beta"
   ]
  },
  {
   "cell_type": "code",
   "execution_count": 157,
   "metadata": {},
   "outputs": [
    {
     "data": {
      "text/plain": [
       "array([[ 3.29371682e+01],\n",
       "       [ 8.13582438e-03],\n",
       "       [ 2.26624594e-03],\n",
       "       [-4.36638785e-02]])"
      ]
     },
     "execution_count": 157,
     "metadata": {},
     "output_type": "execute_result"
    }
   ],
   "source": [
    "beta_delete1=inf(1,X,Y)\n",
    "beta_delete1"
   ]
  },
  {
   "cell_type": "code",
   "execution_count": 158,
   "metadata": {},
   "outputs": [
    {
     "data": {
      "text/plain": [
       "(217, 4, 1)"
      ]
     },
     "execution_count": 158,
     "metadata": {},
     "output_type": "execute_result"
    }
   ],
   "source": [
    "betas = []\n",
    "for i in range(len(X)):\n",
    "    betas.append(inf(i,X,Y))\n",
    "betas_array = np.array(betas)\n",
    "betas_array.shape#217,4,1"
   ]
  },
  {
   "cell_type": "code",
   "execution_count": 159,
   "metadata": {},
   "outputs": [],
   "source": [
    "beta0_hat = betas_array[:,0,:]\n",
    "beta1_hat = betas_array[:,1,:]\n",
    "beta2_hat = betas_array[:,2,:]\n",
    "beta3_hat = betas_array[:,3,:]"
   ]
  },
  {
   "cell_type": "code",
   "execution_count": 160,
   "metadata": {},
   "outputs": [
    {
     "name": "stderr",
     "output_type": "stream",
     "text": [
      "<ipython-input-160-9e06a002f63a>:8: UserWarning: Matplotlib is currently using module://ipykernel.pylab.backend_inline, which is a non-GUI backend, so cannot show the figure.\n",
      "  fig.show()\n"
     ]
    },
    {
     "data": {
      "image/png": "[encoded data removed]",
      "text/plain": [
       "<Figure size 432x288 with 1 Axes>"
      ]
     },
     "metadata": {
      "needs_background": "light"
     },
     "output_type": "display_data"
    }
   ],
   "source": [
    "x1 = np.arange(1, 218,1)\n",
    "y1 = beta0_hat[:,0]\n",
    "fig = plt.figure()\n",
    "pic1= plt.plot(x1, y1)\n",
    "plt.title('beta0_hat')\n",
    "plt.xlabel(\"removed component's index\")\n",
    "plt.ylabel('beta0_hat')\n",
    "fig.show()"
   ]
  },
  {
   "cell_type": "code",
   "execution_count": 161,
   "metadata": {},
   "outputs": [
    {
     "name": "stderr",
     "output_type": "stream",
     "text": [
      "<ipython-input-161-7612924b9735>:8: UserWarning: Matplotlib is currently using module://ipykernel.pylab.backend_inline, which is a non-GUI backend, so cannot show the figure.\n",
      "  fig.show()\n"
     ]
    },
    {
     "data": {
      "image/png": "[encoded data removed]",
      "text/plain": [
       "<Figure size 432x288 with 1 Axes>"
      ]
     },
     "metadata": {
      "needs_background": "light"
     },
     "output_type": "display_data"
    }
   ],
   "source": [
    "x2 = np.arange(1, 218,1)\n",
    "y2 = beta1_hat[:,0]\n",
    "fig = plt.figure()\n",
    "pic2= plt.plot(x2, y2)\n",
    "plt.title('beta1_hat')\n",
    "plt.xlabel(\"removed component's index\")\n",
    "plt.ylabel('beta1_hat')\n",
    "fig.show()"
   ]
  },
  {
   "cell_type": "code",
   "execution_count": 162,
   "metadata": {},
   "outputs": [
    {
     "name": "stderr",
     "output_type": "stream",
     "text": [
      "<ipython-input-162-1ff6db08a52b>:8: UserWarning: Matplotlib is currently using module://ipykernel.pylab.backend_inline, which is a non-GUI backend, so cannot show the figure.\n",
      "  fig.show()\n"
     ]
    },
    {
     "data": {
      "image/png": "[encoded data removed]",
      "text/plain": [
       "<Figure size 432x288 with 1 Axes>"
      ]
     },
     "metadata": {
      "needs_background": "light"
     },
     "output_type": "display_data"
    }
   ],
   "source": [
    "x3 = np.arange(1, 218,1)\n",
    "y3 = beta2_hat[:,0]\n",
    "fig = plt.figure()\n",
    "pic3= plt.plot(x3, y3)\n",
    "plt.title('beta2_hat')\n",
    "plt.xlabel(\"removed component's index\")\n",
    "plt.ylabel('beta2_hat')\n",
    "fig.show()"
   ]
  },
  {
   "cell_type": "code",
   "execution_count": 163,
   "metadata": {},
   "outputs": [
    {
     "name": "stderr",
     "output_type": "stream",
     "text": [
      "<ipython-input-163-db3c95f3b510>:8: UserWarning: Matplotlib is currently using module://ipykernel.pylab.backend_inline, which is a non-GUI backend, so cannot show the figure.\n",
      "  fig.show()\n"
     ]
    },
    {
     "data": {
      "image/png": "[encoded data removed]",
      "text/plain": [
       "<Figure size 432x288 with 1 Axes>"
      ]
     },
     "metadata": {
      "needs_background": "light"
     },
     "output_type": "display_data"
    }
   ],
   "source": [
    "x4 = np.arange(1, 218,1)\n",
    "y4 = beta3_hat[:,0]\n",
    "fig = plt.figure()\n",
    "pic4= plt.plot(x4, y4)\n",
    "plt.title('beta3_hat')\n",
    "plt.xlabel(\"removed component's index\")\n",
    "plt.ylabel('beta3_hat')\n",
    "fig.show()"
   ]
  },
  {
   "cell_type": "markdown",
   "metadata": {},
   "source": [
    "From the plots above, we may find that the estimates are relatively stable, which means the estimate changes little without any record. So we may conclude that one individual record is not that inportant to the estimate precision of Betas, however, when it comes to the whole record, the inportance is obvious."
   ]
  },
  {
   "cell_type": "markdown",
   "metadata": {},
   "source": []
  }
 ],
 "metadata": {
  "kernelspec": {
   "display_name": "Python 3.8.8 ('base')",
   "language": "python",
   "name": "python3"
  },
  "language_info": {
   "codemirror_mode": {
    "name": "ipython",
    "version": 3
   },
   "file_extension": ".py",
   "mimetype": "text/x-python",
   "name": "python",
   "nbconvert_exporter": "python",
   "pygments_lexer": "ipython3",
   "version": "3.8.8"
  },
  "orig_nbformat": 4,
  "vscode": {
   "interpreter": {
    "hash": "40d3a090f54c6569ab1632332b64b2c03c39dcf918b08424e98f38b5ae0af88f"
   }
  }
 },
 "nbformat": 4,
 "nbformat_minor": 2
}
